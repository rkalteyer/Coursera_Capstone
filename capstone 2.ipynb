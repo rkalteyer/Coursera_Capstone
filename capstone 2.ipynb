{
    "cells": [
        {
            "cell_type": "code",
            "execution_count": 28,
            "metadata": {},
            "outputs": [],
            "source": "# Import necessary libraries\n\nimport requests\nimport lxml.html as lh\nimport pandas as pd"
        },
        {
            "cell_type": "code",
            "execution_count": 29,
            "metadata": {},
            "outputs": [],
            "source": "url='https://en.wikipedia.org/wiki/List_of_postal_codes_of_Canada:_M'\n\n#Create a handle, page, to handle the contents of the website\npage = requests.get(url)\n\n#Store the contents of the website under doc\ndoc = lh.fromstring(page.content)\n\n#Parse data that are stored between <tr>..</tr> of HTML\ntr_elements = doc.xpath('//tr')"
        },
        {
            "cell_type": "code",
            "execution_count": 30,
            "metadata": {},
            "outputs": [
                {
                    "data": {
                        "text/plain": "[3, 3, 3, 3, 3, 3, 3, 3, 3, 3, 3, 3]"
                    },
                    "execution_count": 30,
                    "metadata": {},
                    "output_type": "execute_result"
                }
            ],
            "source": "#Check the length of the first 12 rows\n[len(T) for T in tr_elements[:12]]"
        },
        {
            "cell_type": "code",
            "execution_count": 31,
            "metadata": {},
            "outputs": [
                {
                    "name": "stdout",
                    "output_type": "stream",
                    "text": "1:\"Postal Code\n\"\n2:\"Borough\n\"\n3:\"Neighborhood\n\"\n"
                }
            ],
            "source": "# Parse the first row as our header\ntr_elements = doc.xpath('//tr')\n\n#Create empty list\ncol=[]\ni=0\n\n#For each row, store each first element (header) and an empty list\nfor t in tr_elements[0]:\n    i+=1\n    name=t.text_content()\n    print ('%d:\"%s\"'%(i,name))\n    col.append((name,[]))"
        },
        {
            "cell_type": "code",
            "execution_count": 32,
            "metadata": {},
            "outputs": [],
            "source": "#Since out first row is the header, data is stored on the second row onwards\nfor j in range(1,len(tr_elements)):\n    #T is our j'th row\n    T=tr_elements[j]\n    \n    #If row is not of size 3, the //tr data is not from our table \n    if len(T)!=3:\n        break\n    \n    #i is the index of our column\n    i=0\n    \n    #Iterate through each element of the row\n    for t in T.iterchildren():\n        data=t.text_content() \n        #Check if row is empty\n        if i>0:\n        #Convert any numerical value to integers\n            try:\n                data=int(data)\n            except:\n                pass\n        #Append the data to the empty list of the i'th column\n        col[i][1].append(data)\n        #Increment i for the next column\n        i+=1"
        },
        {
            "cell_type": "code",
            "execution_count": 33,
            "metadata": {},
            "outputs": [
                {
                    "data": {
                        "text/plain": "[181, 181, 181]"
                    },
                    "execution_count": 33,
                    "metadata": {},
                    "output_type": "execute_result"
                }
            ],
            "source": "# Check the length of each column. Ideally, they should all be the same\n[len(C) for (title,C) in col]"
        },
        {
            "cell_type": "code",
            "execution_count": 34,
            "metadata": {},
            "outputs": [],
            "source": "Dict={title:column for (title,column) in col}\ndf=pd.DataFrame(Dict)"
        },
        {
            "cell_type": "code",
            "execution_count": 35,
            "metadata": {},
            "outputs": [
                {
                    "data": {
                        "text/html": "<div>\n<style scoped>\n    .dataframe tbody tr th:only-of-type {\n        vertical-align: middle;\n    }\n\n    .dataframe tbody tr th {\n        vertical-align: top;\n    }\n\n    .dataframe thead th {\n        text-align: right;\n    }\n</style>\n<table border=\"1\" class=\"dataframe\">\n  <thead>\n    <tr style=\"text-align: right;\">\n      <th></th>\n      <th>Postal Code</th>\n      <th>Borough</th>\n      <th>Neighborhood</th>\n    </tr>\n  </thead>\n  <tbody>\n    <tr>\n      <th>0</th>\n      <td>M1A\\n</td>\n      <td>Not assigned\\n</td>\n      <td>Not assigned\\n</td>\n    </tr>\n    <tr>\n      <th>1</th>\n      <td>M2A\\n</td>\n      <td>Not assigned\\n</td>\n      <td>Not assigned\\n</td>\n    </tr>\n    <tr>\n      <th>2</th>\n      <td>M3A\\n</td>\n      <td>North York\\n</td>\n      <td>Parkwoods\\n</td>\n    </tr>\n    <tr>\n      <th>3</th>\n      <td>M4A\\n</td>\n      <td>North York\\n</td>\n      <td>Victoria Village\\n</td>\n    </tr>\n    <tr>\n      <th>4</th>\n      <td>M5A\\n</td>\n      <td>Downtown Toronto\\n</td>\n      <td>Regent Park, Harbourfront\\n</td>\n    </tr>\n  </tbody>\n</table>\n</div>",
                        "text/plain": "  Postal Code\\n           Borough\\n               Neighborhood\\n\n0         M1A\\n      Not assigned\\n               Not assigned\\n\n1         M2A\\n      Not assigned\\n               Not assigned\\n\n2         M3A\\n        North York\\n                  Parkwoods\\n\n3         M4A\\n        North York\\n           Victoria Village\\n\n4         M5A\\n  Downtown Toronto\\n  Regent Park, Harbourfront\\n"
                    },
                    "execution_count": 35,
                    "metadata": {},
                    "output_type": "execute_result"
                }
            ],
            "source": "# Access the top 5 rows of the data frame \ndf.head()"
        },
        {
            "cell_type": "code",
            "execution_count": 36,
            "metadata": {},
            "outputs": [
                {
                    "data": {
                        "text/html": "<div>\n<style scoped>\n    .dataframe tbody tr th:only-of-type {\n        vertical-align: middle;\n    }\n\n    .dataframe tbody tr th {\n        vertical-align: top;\n    }\n\n    .dataframe thead th {\n        text-align: right;\n    }\n</style>\n<table border=\"1\" class=\"dataframe\">\n  <thead>\n    <tr style=\"text-align: right;\">\n      <th></th>\n      <th>Postcode</th>\n      <th>Borough</th>\n      <th>Neighbourhood</th>\n    </tr>\n  </thead>\n  <tbody>\n    <tr>\n      <th>0</th>\n      <td>Not assigned\\n</td>\n      <td>M1A\\n</td>\n      <td>Not assigned\\n</td>\n    </tr>\n    <tr>\n      <th>1</th>\n      <td>Not assigned\\n</td>\n      <td>M2A\\n</td>\n      <td>Not assigned\\n</td>\n    </tr>\n    <tr>\n      <th>2</th>\n      <td>Parkwoods\\n</td>\n      <td>M3A\\n</td>\n      <td>North York\\n</td>\n    </tr>\n    <tr>\n      <th>3</th>\n      <td>Victoria Village\\n</td>\n      <td>M4A\\n</td>\n      <td>North York\\n</td>\n    </tr>\n    <tr>\n      <th>4</th>\n      <td>Regent Park, Harbourfront\\n</td>\n      <td>M5A\\n</td>\n      <td>Downtown Toronto\\n</td>\n    </tr>\n  </tbody>\n</table>\n</div>",
                        "text/plain": "                      Postcode Borough       Neighbourhood\n0               Not assigned\\n   M1A\\n      Not assigned\\n\n1               Not assigned\\n   M2A\\n      Not assigned\\n\n2                  Parkwoods\\n   M3A\\n        North York\\n\n3           Victoria Village\\n   M4A\\n        North York\\n\n4  Regent Park, Harbourfront\\n   M5A\\n  Downtown Toronto\\n"
                    },
                    "execution_count": 36,
                    "metadata": {},
                    "output_type": "execute_result"
                }
            ],
            "source": "df.columns = ['Borough', 'Neighbourhood','Postcode']\n\ncols = df.columns.tolist()\ncols\n\ncols = cols[-1:] + cols[:-1]\n\ndf = df[cols]\n\ndf.head()"
        },
        {
            "cell_type": "code",
            "execution_count": 37,
            "metadata": {},
            "outputs": [
                {
                    "data": {
                        "text/html": "<div>\n<style scoped>\n    .dataframe tbody tr th:only-of-type {\n        vertical-align: middle;\n    }\n\n    .dataframe tbody tr th {\n        vertical-align: top;\n    }\n\n    .dataframe thead th {\n        text-align: right;\n    }\n</style>\n<table border=\"1\" class=\"dataframe\">\n  <thead>\n    <tr style=\"text-align: right;\">\n      <th></th>\n      <th>Postcode</th>\n      <th>Borough</th>\n      <th>Neighbourhood</th>\n    </tr>\n  </thead>\n  <tbody>\n    <tr>\n      <th>0</th>\n      <td>Not assigned</td>\n      <td>M1A</td>\n      <td>Not assigned</td>\n    </tr>\n    <tr>\n      <th>1</th>\n      <td>Not assigned</td>\n      <td>M2A</td>\n      <td>Not assigned</td>\n    </tr>\n    <tr>\n      <th>2</th>\n      <td>Parkwoods</td>\n      <td>M3A</td>\n      <td>North York</td>\n    </tr>\n    <tr>\n      <th>3</th>\n      <td>Victoria Village</td>\n      <td>M4A</td>\n      <td>North York</td>\n    </tr>\n    <tr>\n      <th>4</th>\n      <td>Regent Park, Harbourfront</td>\n      <td>M5A</td>\n      <td>Downtown Toronto</td>\n    </tr>\n  </tbody>\n</table>\n</div>",
                        "text/plain": "                     Postcode Borough      Neighbourhood\n0               Not assigned     M1A       Not assigned \n1               Not assigned     M2A       Not assigned \n2                  Parkwoods     M3A         North York \n3           Victoria Village     M4A         North York \n4  Regent Park, Harbourfront     M5A   Downtown Toronto "
                    },
                    "execution_count": 37,
                    "metadata": {},
                    "output_type": "execute_result"
                }
            ],
            "source": "df = df.replace('\\n',' ', regex=True)\ndf.head()"
        },
        {
            "cell_type": "code",
            "execution_count": 38,
            "metadata": {},
            "outputs": [
                {
                    "data": {
                        "text/html": "<div>\n<style scoped>\n    .dataframe tbody tr th:only-of-type {\n        vertical-align: middle;\n    }\n\n    .dataframe tbody tr th {\n        vertical-align: top;\n    }\n\n    .dataframe thead th {\n        text-align: right;\n    }\n</style>\n<table border=\"1\" class=\"dataframe\">\n  <thead>\n    <tr style=\"text-align: right;\">\n      <th></th>\n      <th>Postcode</th>\n      <th>Borough</th>\n      <th>Neighbourhood</th>\n    </tr>\n  </thead>\n  <tbody>\n    <tr>\n      <th>0</th>\n      <td>Not assigned</td>\n      <td>M1A</td>\n      <td>Not assigned</td>\n    </tr>\n    <tr>\n      <th>1</th>\n      <td>Not assigned</td>\n      <td>M2A</td>\n      <td>Not assigned</td>\n    </tr>\n    <tr>\n      <th>2</th>\n      <td>Parkwoods</td>\n      <td>M3A</td>\n      <td>North York</td>\n    </tr>\n    <tr>\n      <th>3</th>\n      <td>Victoria Village</td>\n      <td>M4A</td>\n      <td>North York</td>\n    </tr>\n    <tr>\n      <th>4</th>\n      <td>Regent Park, Harbourfront</td>\n      <td>M5A</td>\n      <td>Downtown Toronto</td>\n    </tr>\n    <tr>\n      <th>5</th>\n      <td>Lawrence Manor, Lawrence Heights</td>\n      <td>M6A</td>\n      <td>North York</td>\n    </tr>\n    <tr>\n      <th>6</th>\n      <td>Queen's Park, Ontario Provincial Government</td>\n      <td>M7A</td>\n      <td>Downtown Toronto</td>\n    </tr>\n    <tr>\n      <th>7</th>\n      <td>Not assigned</td>\n      <td>M8A</td>\n      <td>Not assigned</td>\n    </tr>\n    <tr>\n      <th>8</th>\n      <td>Islington Avenue, Humber Valley Village</td>\n      <td>M9A</td>\n      <td>Etobicoke</td>\n    </tr>\n    <tr>\n      <th>9</th>\n      <td>Malvern, Rouge</td>\n      <td>M1B</td>\n      <td>Scarborough</td>\n    </tr>\n  </tbody>\n</table>\n</div>",
                        "text/plain": "                                       Postcode Borough      Neighbourhood\n0                                 Not assigned     M1A       Not assigned \n1                                 Not assigned     M2A       Not assigned \n2                                    Parkwoods     M3A         North York \n3                             Victoria Village     M4A         North York \n4                    Regent Park, Harbourfront     M5A   Downtown Toronto \n5             Lawrence Manor, Lawrence Heights     M6A         North York \n6  Queen's Park, Ontario Provincial Government     M7A   Downtown Toronto \n7                                 Not assigned     M8A       Not assigned \n8      Islington Avenue, Humber Valley Village     M9A          Etobicoke \n9                               Malvern, Rouge     M1B        Scarborough "
                    },
                    "execution_count": 38,
                    "metadata": {},
                    "output_type": "execute_result"
                }
            ],
            "source": "df.drop(df.index[df['Borough'] == 'Not assigned'], inplace = True)\n\n# Reset the index and dropping the previous index\ndf = df.reset_index(drop=True)\n\ndf.head(10)"
        },
        {
            "cell_type": "code",
            "execution_count": 39,
            "metadata": {},
            "outputs": [
                {
                    "data": {
                        "text/html": "<div>\n<style scoped>\n    .dataframe tbody tr th:only-of-type {\n        vertical-align: middle;\n    }\n\n    .dataframe tbody tr th {\n        vertical-align: top;\n    }\n\n    .dataframe thead th {\n        text-align: right;\n    }\n</style>\n<table border=\"1\" class=\"dataframe\">\n  <thead>\n    <tr style=\"text-align: right;\">\n      <th></th>\n      <th>Postcode</th>\n      <th>Borough</th>\n      <th>Neighbourhood</th>\n    </tr>\n  </thead>\n  <tbody>\n    <tr>\n      <th>0</th>\n      <td></td>\n      <td></td>\n      <td>Canadian postal codes</td>\n    </tr>\n    <tr>\n      <th>1</th>\n      <td>Agincourt</td>\n      <td>M1S</td>\n      <td>Scarborough</td>\n    </tr>\n    <tr>\n      <th>2</th>\n      <td>Alderwood, Long Branch</td>\n      <td>M8W</td>\n      <td>Etobicoke</td>\n    </tr>\n    <tr>\n      <th>3</th>\n      <td>Bathurst Manor, Wilson Heights, Downsview North</td>\n      <td>M3H</td>\n      <td>North York</td>\n    </tr>\n    <tr>\n      <th>4</th>\n      <td>Bayview Village</td>\n      <td>M2K</td>\n      <td>North York</td>\n    </tr>\n    <tr>\n      <th>5</th>\n      <td>Bedford Park, Lawrence Manor East</td>\n      <td>M5M</td>\n      <td>North York</td>\n    </tr>\n    <tr>\n      <th>6</th>\n      <td>Berczy Park</td>\n      <td>M5E</td>\n      <td>Downtown Toronto</td>\n    </tr>\n    <tr>\n      <th>7</th>\n      <td>Birch Cliff, Cliffside West</td>\n      <td>M1N</td>\n      <td>Scarborough</td>\n    </tr>\n    <tr>\n      <th>8</th>\n      <td>Brockton, Parkdale Village, Exhibition Place</td>\n      <td>M6K</td>\n      <td>West Toronto</td>\n    </tr>\n    <tr>\n      <th>9</th>\n      <td>Business reply mail Processing Centre, South C...</td>\n      <td>M7Y</td>\n      <td>East Toronto</td>\n    </tr>\n  </tbody>\n</table>\n</div>",
                        "text/plain": "                                            Postcode Borough  \\\n0                                                              \n1                                         Agincourt     M1S    \n2                            Alderwood, Long Branch     M8W    \n3   Bathurst Manor, Wilson Heights, Downsview North     M3H    \n4                                   Bayview Village     M2K    \n5                 Bedford Park, Lawrence Manor East     M5M    \n6                                       Berczy Park     M5E    \n7                       Birch Cliff, Cliffside West     M1N    \n8      Brockton, Parkdale Village, Exhibition Place     M6K    \n9  Business reply mail Processing Centre, South C...    M7Y    \n\n            Neighbourhood  \n0  Canadian postal codes   \n1            Scarborough   \n2              Etobicoke   \n3             North York   \n4             North York   \n5             North York   \n6       Downtown Toronto   \n7            Scarborough   \n8           West Toronto   \n9           East Toronto   "
                    },
                    "execution_count": 39,
                    "metadata": {},
                    "output_type": "execute_result"
                }
            ],
            "source": "df = df.groupby(['Postcode', 'Borough'])['Neighbourhood'].apply(','.join).reset_index()\ndf.columns = ['Postcode','Borough','Neighbourhood']\ndf.head(10)"
        },
        {
            "cell_type": "code",
            "execution_count": 46,
            "metadata": {},
            "outputs": [],
            "source": "df['Neighbourhood'] = df['Neighbourhood'].str.strip()"
        },
        {
            "cell_type": "code",
            "execution_count": 47,
            "metadata": {},
            "outputs": [],
            "source": "df.loc[df['Neighbourhood'] == 'Not assigned', 'Neighbourhood'] = df['Borough']"
        },
        {
            "cell_type": "code",
            "execution_count": 49,
            "metadata": {},
            "outputs": [
                {
                    "data": {
                        "text/html": "<div>\n<style scoped>\n    .dataframe tbody tr th:only-of-type {\n        vertical-align: middle;\n    }\n\n    .dataframe tbody tr th {\n        vertical-align: top;\n    }\n\n    .dataframe thead th {\n        text-align: right;\n    }\n</style>\n<table border=\"1\" class=\"dataframe\">\n  <thead>\n    <tr style=\"text-align: right;\">\n      <th></th>\n      <th>Postcode</th>\n      <th>Borough</th>\n      <th>Neighbourhood</th>\n    </tr>\n  </thead>\n  <tbody>\n    <tr>\n      <th>0</th>\n      <td></td>\n      <td></td>\n      <td>Canadian postal codes</td>\n    </tr>\n    <tr>\n      <th>1</th>\n      <td>Agincourt</td>\n      <td>M1S</td>\n      <td>Scarborough</td>\n    </tr>\n    <tr>\n      <th>2</th>\n      <td>Alderwood, Long Branch</td>\n      <td>M8W</td>\n      <td>Etobicoke</td>\n    </tr>\n    <tr>\n      <th>3</th>\n      <td>Bathurst Manor, Wilson Heights, Downsview North</td>\n      <td>M3H</td>\n      <td>North York</td>\n    </tr>\n    <tr>\n      <th>4</th>\n      <td>Bayview Village</td>\n      <td>M2K</td>\n      <td>North York</td>\n    </tr>\n    <tr>\n      <th>5</th>\n      <td>Bedford Park, Lawrence Manor East</td>\n      <td>M5M</td>\n      <td>North York</td>\n    </tr>\n    <tr>\n      <th>6</th>\n      <td>Berczy Park</td>\n      <td>M5E</td>\n      <td>Downtown Toronto</td>\n    </tr>\n    <tr>\n      <th>7</th>\n      <td>Birch Cliff, Cliffside West</td>\n      <td>M1N</td>\n      <td>Scarborough</td>\n    </tr>\n    <tr>\n      <th>8</th>\n      <td>Brockton, Parkdale Village, Exhibition Place</td>\n      <td>M6K</td>\n      <td>West Toronto</td>\n    </tr>\n    <tr>\n      <th>9</th>\n      <td>Business reply mail Processing Centre, South C...</td>\n      <td>M7Y</td>\n      <td>East Toronto</td>\n    </tr>\n  </tbody>\n</table>\n</div>",
                        "text/plain": "                                            Postcode Borough  \\\n0                                                              \n1                                         Agincourt     M1S    \n2                            Alderwood, Long Branch     M8W    \n3   Bathurst Manor, Wilson Heights, Downsview North     M3H    \n4                                   Bayview Village     M2K    \n5                 Bedford Park, Lawrence Manor East     M5M    \n6                                       Berczy Park     M5E    \n7                       Birch Cliff, Cliffside West     M1N    \n8      Brockton, Parkdale Village, Exhibition Place     M6K    \n9  Business reply mail Processing Centre, South C...    M7Y    \n\n           Neighbourhood  \n0  Canadian postal codes  \n1            Scarborough  \n2              Etobicoke  \n3             North York  \n4             North York  \n5             North York  \n6       Downtown Toronto  \n7            Scarborough  \n8           West Toronto  \n9           East Toronto  "
                    },
                    "execution_count": 49,
                    "metadata": {},
                    "output_type": "execute_result"
                }
            ],
            "source": "df.head(10)"
        },
        {
            "cell_type": "code",
            "execution_count": 50,
            "metadata": {},
            "outputs": [
                {
                    "data": {
                        "text/plain": "(181, 3)"
                    },
                    "execution_count": 50,
                    "metadata": {},
                    "output_type": "execute_result"
                }
            ],
            "source": "# Check the shape of the data frame\ndf.shape"
        },
        {
            "cell_type": "code",
            "execution_count": 45,
            "metadata": {},
            "outputs": [],
            "source": "df.to_csv(r'df_can.csv')"
        }
    ],
    "metadata": {
        "kernelspec": {
            "display_name": "Python 3.6",
            "language": "python",
            "name": "python3"
        },
        "language_info": {
            "codemirror_mode": {
                "name": "ipython",
                "version": 3
            },
            "file_extension": ".py",
            "mimetype": "text/x-python",
            "name": "python",
            "nbconvert_exporter": "python",
            "pygments_lexer": "ipython3",
            "version": "3.6.9"
        }
    },
    "nbformat": 4,
    "nbformat_minor": 1
}